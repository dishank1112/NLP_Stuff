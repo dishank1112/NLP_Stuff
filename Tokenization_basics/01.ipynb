{
 "cells": [
  {
   "cell_type": "code",
   "execution_count": 61,
   "metadata": {},
   "outputs": [],
   "source": [
    "corpus = \"\"\"\n",
    "Well Hello There !!!\n",
    "I am Jiraya. U can send love letters later.Noice to meet ya...\n",
    "Byee!!\n",
    "\"\"\""
   ]
  },
  {
   "cell_type": "code",
   "execution_count": 62,
   "metadata": {},
   "outputs": [],
   "source": [
    "from nltk.tokenize import sent_tokenize"
   ]
  },
  {
   "cell_type": "code",
   "execution_count": 63,
   "metadata": {},
   "outputs": [
    {
     "name": "stdout",
     "output_type": "stream",
     "text": [
      "\n",
      "Well Hello There !!!\n",
      "I am Jiraya. U can send love letters later.Noice to meet ya...\n",
      "Byee!!\n",
      "\n"
     ]
    }
   ],
   "source": [
    "print(corpus)"
   ]
  },
  {
   "cell_type": "code",
   "execution_count": 64,
   "metadata": {},
   "outputs": [
    {
     "name": "stderr",
     "output_type": "stream",
     "text": [
      "[nltk_data] Downloading package punkt to\n",
      "[nltk_data]     C:\\Users\\hp\\AppData\\Roaming\\nltk_data...\n",
      "[nltk_data]   Package punkt is already up-to-date!\n"
     ]
    },
    {
     "data": {
      "text/plain": [
       "True"
      ]
     },
     "execution_count": 64,
     "metadata": {},
     "output_type": "execute_result"
    }
   ],
   "source": [
    "import nltk\n",
    "nltk.download('punkt')\n"
   ]
  },
  {
   "cell_type": "code",
   "execution_count": 65,
   "metadata": {},
   "outputs": [],
   "source": [
    "## PARAGRAPH --> SENTENCES (BY SENT_TOKENIZE) \n",
    "\n",
    "docs = sent_tokenize(corpus)"
   ]
  },
  {
   "cell_type": "code",
   "execution_count": 66,
   "metadata": {},
   "outputs": [
    {
     "name": "stdout",
     "output_type": "stream",
     "text": [
      "['\\nWell Hello There !', '!!', 'I am Jiraya.', 'U can send love letters later.Noice to meet ya...', 'Byee!', '!']\n"
     ]
    }
   ],
   "source": [
    "print(docs)"
   ]
  },
  {
   "cell_type": "code",
   "execution_count": 67,
   "metadata": {},
   "outputs": [
    {
     "data": {
      "text/plain": [
       "list"
      ]
     },
     "execution_count": 67,
     "metadata": {},
     "output_type": "execute_result"
    }
   ],
   "source": [
    "type(docs)"
   ]
  },
  {
   "cell_type": "code",
   "execution_count": 68,
   "metadata": {},
   "outputs": [
    {
     "name": "stdout",
     "output_type": "stream",
     "text": [
      "\n",
      "Well Hello There !\n",
      "!!\n",
      "I am Jiraya.\n",
      "U can send love letters later.Noice to meet ya...\n",
      "Byee!\n",
      "!\n"
     ]
    }
   ],
   "source": [
    "for sentences in docs:\n",
    "    print(sentences)"
   ]
  },
  {
   "cell_type": "code",
   "execution_count": 69,
   "metadata": {},
   "outputs": [
    {
     "name": "stdout",
     "output_type": "stream",
     "text": [
      "['Well', 'Hello', 'There', '!', '!', '!', 'I', 'am', 'Jiraya', '.', 'U', 'can', 'send', 'love', 'letters', 'later.Noice', 'to', 'meet', 'ya', '...', 'Byee', '!', '!']\n"
     ]
    }
   ],
   "source": [
    "from nltk.tokenize import word_tokenize\n",
    "## PARAGRAPH -> WORDS    (BY WORD TOKENIZE)\n",
    "print(word_tokenize(corpus))"
   ]
  },
  {
   "cell_type": "code",
   "execution_count": 70,
   "metadata": {},
   "outputs": [
    {
     "name": "stdout",
     "output_type": "stream",
     "text": [
      "['Well', 'Hello', 'There', '!']\n",
      "['!', '!']\n",
      "['I', 'am', 'Jiraya', '.']\n",
      "['U', 'can', 'send', 'love', 'letters', 'later.Noice', 'to', 'meet', 'ya', '...']\n",
      "['Byee', '!']\n",
      "['!']\n"
     ]
    }
   ],
   "source": [
    "for sen in docs:\n",
    "    print(word_tokenize(sen))"
   ]
  },
  {
   "cell_type": "code",
   "execution_count": 71,
   "metadata": {},
   "outputs": [
    {
     "data": {
      "text/plain": [
       "['Well',\n",
       " 'Hello',\n",
       " 'There',\n",
       " '!!!',\n",
       " 'I',\n",
       " 'am',\n",
       " 'Jiraya',\n",
       " '.',\n",
       " 'U',\n",
       " 'can',\n",
       " 'send',\n",
       " 'love',\n",
       " 'letters',\n",
       " 'later',\n",
       " '.',\n",
       " 'Noice',\n",
       " 'to',\n",
       " 'meet',\n",
       " 'ya',\n",
       " '...',\n",
       " 'Byee',\n",
       " '!!']"
      ]
     },
     "execution_count": 71,
     "metadata": {},
     "output_type": "execute_result"
    }
   ],
   "source": [
    "from nltk.tokenize import wordpunct_tokenize\n",
    "wordpunct_tokenize(corpus)"
   ]
  },
  {
   "cell_type": "code",
   "execution_count": 72,
   "metadata": {},
   "outputs": [],
   "source": [
    "from nltk.tokenize import TreebankWordDetokenizer\n"
   ]
  },
  {
   "cell_type": "code",
   "execution_count": 73,
   "metadata": {},
   "outputs": [],
   "source": [
    "tokeizer = TreebankWordDetokenizer()"
   ]
  },
  {
   "cell_type": "code",
   "execution_count": 74,
   "metadata": {},
   "outputs": [
    {
     "data": {
      "text/plain": [
       "'W e l l   H e l l o   T h e r e  !!! \\n I   a m   J i r a y a .   U   c a n   s e n d   l o v e   l e t t e r s   l a t e r . N o i c e   t o   m e e t   y a . . . \\n B y e e!!'"
      ]
     },
     "execution_count": 74,
     "metadata": {},
     "output_type": "execute_result"
    }
   ],
   "source": [
    "tokeizer.tokenize(corpus)"
   ]
  },
  {
   "cell_type": "code",
   "execution_count": 75,
   "metadata": {},
   "outputs": [],
   "source": [
    "## well hello there i am jiraya u cam srdn love letters later \n"
   ]
  }
 ],
 "metadata": {
  "kernelspec": {
   "display_name": "base",
   "language": "python",
   "name": "python3"
  },
  "language_info": {
   "codemirror_mode": {
    "name": "ipython",
    "version": 3
   },
   "file_extension": ".py",
   "mimetype": "text/x-python",
   "name": "python",
   "nbconvert_exporter": "python",
   "pygments_lexer": "ipython3",
   "version": "3.12.4"
  }
 },
 "nbformat": 4,
 "nbformat_minor": 2
}
