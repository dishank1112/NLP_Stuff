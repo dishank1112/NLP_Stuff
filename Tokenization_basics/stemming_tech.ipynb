{
 "cells": [
  {
   "cell_type": "code",
   "execution_count": 18,
   "metadata": {},
   "outputs": [],
   "source": [
    "words=[\"eating\",\"eaten\",\"eats\",\"eated\",\"writing\",\"writes\",\"written\",\"finally\",\"finalized\",\"history\",\"programing\",\"programin\",\"proraming\",\"programmed\"]\n",
    "\n"
   ]
  },
  {
   "cell_type": "code",
   "execution_count": 19,
   "metadata": {},
   "outputs": [],
   "source": [
    "##PORTER STEMMER\n",
    "\n",
    "from nltk.stem import PorterStemmer\n"
   ]
  },
  {
   "cell_type": "code",
   "execution_count": 20,
   "metadata": {},
   "outputs": [
    {
     "name": "stdout",
     "output_type": "stream",
     "text": [
      "eating ---> eat\n",
      "eaten ---> eaten\n",
      "eats ---> eat\n",
      "eated ---> eat\n",
      "writing ---> write\n",
      "writes ---> write\n",
      "written ---> written\n",
      "finally ---> final\n",
      "finalized ---> final\n",
      "history ---> histori\n",
      "programing ---> program\n",
      "programin ---> programin\n",
      "proraming ---> proram\n",
      "programmed ---> program\n"
     ]
    }
   ],
   "source": [
    "stemming = PorterStemmer()\n",
    "for word in words:\n",
    "    print(word+\" ---> \"+stemming.stem(word))"
   ]
  },
  {
   "cell_type": "code",
   "execution_count": 21,
   "metadata": {},
   "outputs": [
    {
     "data": {
      "text/plain": [
       "'ingesat'"
      ]
     },
     "execution_count": 21,
     "metadata": {},
     "output_type": "execute_result"
    }
   ],
   "source": [
    "## REGEXPSTEMMER -->\n",
    "from nltk.stem import RegexpStemmer\n",
    "reg_stemmer = RegexpStemmer('ing$|s$|e$|able$',min=4)\n",
    "reg_stemmer.stem('ingesating')"
   ]
  },
  {
   "cell_type": "code",
   "execution_count": 22,
   "metadata": {},
   "outputs": [
    {
     "name": "stdout",
     "output_type": "stream",
     "text": [
      "['eating', 'eaten', 'eats', 'eated', 'writing', 'writes', 'written', 'finally', 'finalized', 'history', 'programing', 'programin', 'proraming', 'programmed']\n"
     ]
    }
   ],
   "source": [
    "print(words)"
   ]
  },
  {
   "cell_type": "code",
   "execution_count": 23,
   "metadata": {},
   "outputs": [],
   "source": [
    "reg_stemmer = RegexpStemmer('ing$|s$|e$|able$|n$,|en$|y$|ed$',min=4)\n"
   ]
  },
  {
   "cell_type": "code",
   "execution_count": 24,
   "metadata": {},
   "outputs": [
    {
     "name": "stdout",
     "output_type": "stream",
     "text": [
      "eating--->eat\n",
      "eaten--->eat\n",
      "eats--->eat\n",
      "eated--->eat\n",
      "writing--->writ\n",
      "writes--->write\n",
      "written--->writt\n",
      "finally--->finall\n",
      "finalized--->finaliz\n",
      "history--->histor\n",
      "programing--->program\n",
      "programin--->programin\n",
      "proraming--->proram\n",
      "programmed--->programm\n"
     ]
    }
   ],
   "source": [
    "for w in words:\n",
    "    print(w+\"--->\"+reg_stemmer.stem(w))"
   ]
  },
  {
   "cell_type": "code",
   "execution_count": 28,
   "metadata": {},
   "outputs": [],
   "source": [
    "## SNOWBALL STEMMER -->\n",
    "from nltk.stem import SnowballStemmer\n",
    "SnowballSstemmer=SnowballStemmer('english')"
   ]
  },
  {
   "cell_type": "code",
   "execution_count": 29,
   "metadata": {},
   "outputs": [
    {
     "name": "stdout",
     "output_type": "stream",
     "text": [
      "eating----> eat\n",
      "eaten----> eaten\n",
      "eats----> eat\n",
      "eated----> eat\n",
      "writing----> write\n",
      "writes----> write\n",
      "written----> written\n",
      "finally----> final\n",
      "finalized----> final\n",
      "history----> histori\n",
      "programing----> program\n",
      "programin----> programin\n",
      "proraming----> proram\n",
      "programmed----> program\n"
     ]
    }
   ],
   "source": [
    "for w in words:\n",
    "    print(w + \"----> \" + SnowballSstemmer.stem(w))\n"
   ]
  },
  {
   "cell_type": "code",
   "execution_count": 30,
   "metadata": {},
   "outputs": [
    {
     "data": {
      "text/plain": [
       "'fairli'"
      ]
     },
     "execution_count": 30,
     "metadata": {},
     "output_type": "execute_result"
    }
   ],
   "source": [
    "stemming.stem('fairly')"
   ]
  },
  {
   "cell_type": "code",
   "execution_count": null,
   "metadata": {},
   "outputs": [],
   "source": [
    "## W e L l H e L l O there I am jiraya u can semd love letters later its really noice to meet ya\n"
   ]
  },
  {
   "cell_type": "code",
   "execution_count": null,
   "metadata": {},
   "outputs": [],
   "source": []
  },
  {
   "cell_type": "code",
   "execution_count": null,
   "metadata": {},
   "outputs": [],
   "source": []
  },
  {
   "cell_type": "code",
   "execution_count": null,
   "metadata": {},
   "outputs": [],
   "source": []
  },
  {
   "cell_type": "code",
   "execution_count": null,
   "metadata": {},
   "outputs": [],
   "source": []
  }
 ],
 "metadata": {
  "kernelspec": {
   "display_name": "base",
   "language": "python",
   "name": "python3"
  },
  "language_info": {
   "codemirror_mode": {
    "name": "ipython",
    "version": 3
   },
   "file_extension": ".py",
   "mimetype": "text/x-python",
   "name": "python",
   "nbconvert_exporter": "python",
   "pygments_lexer": "ipython3",
   "version": "3.12.4"
  }
 },
 "nbformat": 4,
 "nbformat_minor": 2
}
